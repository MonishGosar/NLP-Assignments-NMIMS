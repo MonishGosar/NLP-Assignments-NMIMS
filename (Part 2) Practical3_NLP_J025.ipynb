{
 "cells": [
  {
   "cell_type": "markdown",
   "id": "46f332b0-4ebc-4ff6-9987-397fdac92101",
   "metadata": {
    "tags": []
   },
   "source": [
    "# Practical 3- NLP\n",
    "> Monish Gosar (J025)"
   ]
  },
  {
   "cell_type": "markdown",
   "id": "b2e15922",
   "metadata": {},
   "source": [
    "# Part 1\n",
    "\n",
    "## Train a model using GloVE embeddings with Vanilla RNNs"
   ]
  },
  {
   "cell_type": "code",
   "execution_count": null,
   "id": "6dee1c03-7a05-452f-be7e-4372e394da83",
   "metadata": {},
   "outputs": [],
   "source": []
  },
  {
   "cell_type": "code",
   "execution_count": null,
   "id": "0ad0b9ad-cffc-4c44-8a00-c2a93b5ac367",
   "metadata": {},
   "outputs": [],
   "source": []
  },
  {
   "cell_type": "code",
   "execution_count": null,
   "id": "926696f6-92aa-48e3-a5a1-a73fb747bbeb",
   "metadata": {},
   "outputs": [],
   "source": []
  },
  {
   "cell_type": "markdown",
   "id": "da8e9dbb",
   "metadata": {},
   "source": [
    "## Train a model using GloVE embeddings with LSTMs"
   ]
  },
  {
   "cell_type": "markdown",
   "id": "ed495c8d",
   "metadata": {},
   "source": [
    "## Repeat [1] and [2] with on-the-fly embeddings using torch"
   ]
  },
  {
   "cell_type": "code",
   "execution_count": null,
   "id": "92311af1-3f64-4313-b166-7c99df638912",
   "metadata": {},
   "outputs": [],
   "source": []
  },
  {
   "cell_type": "code",
   "execution_count": null,
   "id": "32d1ff6e-a701-43f6-ad32-d03504ff6f3b",
   "metadata": {},
   "outputs": [],
   "source": []
  },
  {
   "cell_type": "markdown",
   "id": "29e23cb5",
   "metadata": {},
   "source": [
    "# PART 2"
   ]
  },
  {
   "cell_type": "markdown",
   "id": "d9885cd1-8f2d-49d5-88e2-75c69953efce",
   "metadata": {},
   "source": [
    "## Build a date parser using basic text processing and rules. (No ML models)\n",
    "\n",
    "- Given a piece of text, extract the day, month and year info and present it in DD/MM/\n",
    "YYYY format.\n",
    "- Example: \"l went to London on 21st June, 2024\" 21/06/2024\n"
   ]
  },
  {
   "cell_type": "code",
   "execution_count": 75,
   "id": "5c756428-4b45-45b4-adc2-55fe1c6c8227",
   "metadata": {
    "tags": []
   },
   "outputs": [],
   "source": [
    "import pandas as pd\n",
    "import re\n",
    "from datetime import datetime\n",
    "\n",
    "def parse_date(text):\n",
    "    \n",
    "    month_dict = {\n",
    "        'jan': '01', 'feb': '02', 'mar': '03', 'apr': '04', 'may': '05', 'jun': '06',\n",
    "        'jul': '07', 'aug': '08', 'sep': '09', 'oct': '10', 'nov': '11', 'dec': '12'\n",
    "    }\n",
    "\n",
    "    patterns = [\n",
    "        r'\\b(\\d{1,2})(?:st|nd|rd|th)?\\s*(?:of\\s+)?([a-zA-Z]{3,9})(?:\\s*,?\\s*|\\s+)(\\d{4}|\\d{2})\\b',\n",
    "        r'\\b([a-zA-Z]{3,9})\\s+(\\d{1,2})(?:st|nd|rd|th)?(?:\\s*,?\\s*|\\s+)(\\d{4}|\\d{2})\\b',  \n",
    "        r'\\b(\\d{4})[-./](\\d{1,2})[-./](\\d{1,2})\\b',  \n",
    "        r'\\b(\\d{1,2})[-./](\\d{1,2})[-./](\\d{4}|\\d{2})\\b', \n",
    "        r'\\b(\\d{1,2})\\.(\\d{1,2})\\.(\\d{4}|\\d{2})\\b' \n",
    "    ]\n",
    "\n",
    "    for pattern in patterns:\n",
    "        match = re.search(pattern, text)\n",
    "        if match:\n",
    "            groups = match.groups()\n",
    "            try:\n",
    "                if len(groups[0]) == 4: \n",
    "                    year, month, day = groups\n",
    "                elif groups[0].isalpha():  # Month first\n",
    "                    month, day, year = groups\n",
    "                    month = month_dict[month.lower()[:3]]\n",
    "                else:  # Day first\n",
    "                    day, month, year = groups\n",
    "                    if not month.isdigit():\n",
    "                        month = month_dict[month.lower()[:3]]\n",
    "\n",
    "                if len(year) == 2:\n",
    "                    current_year = datetime.now().year\n",
    "                    century = str(current_year)[:2]\n",
    "                    year = century + year\n",
    "\n",
    "                day = day.zfill(2)\n",
    "                month = month.zfill(2)\n",
    "\n",
    "                datetime(int(year), int(month), int(day))\n",
    "\n",
    "                return f\"{day}/{month}/{year}\"\n",
    "            except (ValueError, KeyError):\n",
    "                continue\n",
    "    return None"
   ]
  },
  {
   "cell_type": "code",
   "execution_count": 77,
   "id": "b1654fc6-ab46-415e-94c2-7cf893eefe1a",
   "metadata": {
    "tags": []
   },
   "outputs": [
    {
     "data": {
      "text/html": [
       "<div>\n",
       "<style scoped>\n",
       "    .dataframe tbody tr th:only-of-type {\n",
       "        vertical-align: middle;\n",
       "    }\n",
       "\n",
       "    .dataframe tbody tr th {\n",
       "        vertical-align: top;\n",
       "    }\n",
       "\n",
       "    .dataframe thead th {\n",
       "        text-align: right;\n",
       "    }\n",
       "</style>\n",
       "<table border=\"1\" class=\"dataframe\">\n",
       "  <thead>\n",
       "    <tr style=\"text-align: right;\">\n",
       "      <th></th>\n",
       "      <th>Input</th>\n",
       "      <th>Expected Output</th>\n",
       "    </tr>\n",
       "  </thead>\n",
       "  <tbody>\n",
       "    <tr>\n",
       "      <th>0</th>\n",
       "      <td>The event will take place on March 5, 2023.</td>\n",
       "      <td>05/03/2023</td>\n",
       "    </tr>\n",
       "    <tr>\n",
       "      <th>1</th>\n",
       "      <td>Her birthday is on 07/08/1990.</td>\n",
       "      <td>07/08/1990</td>\n",
       "    </tr>\n",
       "    <tr>\n",
       "      <th>2</th>\n",
       "      <td>The deadline is 2022-12-31.</td>\n",
       "      <td>31/12/2022</td>\n",
       "    </tr>\n",
       "    <tr>\n",
       "      <th>3</th>\n",
       "      <td>We met on 1st of January 2000.</td>\n",
       "      <td>01/01/2000</td>\n",
       "    </tr>\n",
       "    <tr>\n",
       "      <th>4</th>\n",
       "      <td>The concert is scheduled for 15th September, 2...</td>\n",
       "      <td>15/09/2021</td>\n",
       "    </tr>\n",
       "  </tbody>\n",
       "</table>\n",
       "</div>"
      ],
      "text/plain": [
       "                                               Input Expected Output\n",
       "0        The event will take place on March 5, 2023.      05/03/2023\n",
       "1                     Her birthday is on 07/08/1990.      07/08/1990\n",
       "2                        The deadline is 2022-12-31.      31/12/2022\n",
       "3                     We met on 1st of January 2000.      01/01/2000\n",
       "4  The concert is scheduled for 15th September, 2...      15/09/2021"
      ]
     },
     "execution_count": 77,
     "metadata": {},
     "output_type": "execute_result"
    }
   ],
   "source": [
    "df = pd.read_csv(r\"C:\\Users\\monis\\Downloads\\date_parser_testcases.csv\")\n",
    "df.head()"
   ]
  },
  {
   "cell_type": "code",
   "execution_count": 79,
   "id": "d2887404-da57-4af8-b851-fc8c3641565c",
   "metadata": {
    "tags": []
   },
   "outputs": [
    {
     "name": "stdout",
     "output_type": "stream",
     "text": [
      "                                                Input Expected Output  \\\n",
      "0         The event will take place on March 5, 2023.      05/03/2023   \n",
      "1                      Her birthday is on 07/08/1990.      07/08/1990   \n",
      "2                         The deadline is 2022-12-31.      31/12/2022   \n",
      "3                      We met on 1st of January 2000.      01/01/2000   \n",
      "4   The concert is scheduled for 15th September, 2...      15/09/2021   \n",
      "..                                                ...             ...   \n",
      "95  We celebrate Independence Day on 2023-07-04, a...      04/07/2023   \n",
      "96  The final date for submission is 30th November...      30/11/2022   \n",
      "97  The annual conference is on 15th October 2023,...      15/10/2023   \n",
      "98  His birthdate, noted as 1990-05-20, is in the ...      20/05/1990   \n",
      "99  The festival will be celebrated on 12th August...      12/08/2024   \n",
      "\n",
      "     My_Output  \n",
      "0   05/03/2023  \n",
      "1   07/08/1990  \n",
      "2   31/12/2022  \n",
      "3   01/01/2000  \n",
      "4   15/09/2021  \n",
      "..         ...  \n",
      "95  04/07/2023  \n",
      "96  30/11/2022  \n",
      "97  15/10/2023  \n",
      "98  20/05/1990  \n",
      "99  12/08/2024  \n",
      "\n",
      "[100 rows x 3 columns]\n"
     ]
    }
   ],
   "source": [
    "df['My_Output'] = df['Input'].apply(parse_date)\n",
    "\n",
    "print(df)"
   ]
  },
  {
   "cell_type": "code",
   "execution_count": 81,
   "id": "709453e5-7602-49fb-9173-9fea9ab152e5",
   "metadata": {},
   "outputs": [
    {
     "data": {
      "text/plain": [
       "87.0"
      ]
     },
     "execution_count": 81,
     "metadata": {},
     "output_type": "execute_result"
    }
   ],
   "source": [
    "correct_count = (df['My_Output'] == df['Expected Output']).sum()\n",
    "total_count = len(df)\n",
    "accuracy = (correct_count / total_count) * 100\n",
    "\n",
    "accuracy"
   ]
  },
  {
   "cell_type": "code",
   "execution_count": null,
   "id": "856ac0a9-54e2-4d35-81bc-146f65a5f643",
   "metadata": {},
   "outputs": [],
   "source": []
  },
  {
   "cell_type": "code",
   "execution_count": null,
   "id": "1d790228-6770-49ce-8631-2ad9a216bb0d",
   "metadata": {},
   "outputs": [],
   "source": []
  }
 ],
 "metadata": {
  "kernelspec": {
   "display_name": "Python 3 (ipykernel)",
   "language": "python",
   "name": "python3"
  },
  "language_info": {
   "codemirror_mode": {
    "name": "ipython",
    "version": 3
   },
   "file_extension": ".py",
   "mimetype": "text/x-python",
   "name": "python",
   "nbconvert_exporter": "python",
   "pygments_lexer": "ipython3",
   "version": "3.11.7"
  }
 },
 "nbformat": 4,
 "nbformat_minor": 5
}
