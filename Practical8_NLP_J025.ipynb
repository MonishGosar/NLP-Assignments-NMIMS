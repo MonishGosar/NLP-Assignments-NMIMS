{
 "cells": [
  {
   "cell_type": "code",
   "execution_count": 1,
   "metadata": {},
   "outputs": [
    {
     "name": "stderr",
     "output_type": "stream",
     "text": [
      "c:\\Users\\monis\\AppData\\Local\\Programs\\Python\\Python311\\Lib\\site-packages\\fuzzywuzzy\\fuzz.py:11: UserWarning: Using slow pure-python SequenceMatcher. Install python-Levenshtein to remove this warning\n",
      "  warnings.warn('Using slow pure-python SequenceMatcher. Install python-Levenshtein to remove this warning')\n"
     ]
    }
   ],
   "source": [
    "import pandas as pd\n",
    "from fuzzywuzzy import fuzz\n",
    "from fuzzywuzzy import process\n",
    "\n"
   ]
  },
  {
   "cell_type": "code",
   "execution_count": 3,
   "metadata": {},
   "outputs": [
    {
     "data": {
      "text/html": [
       "<div>\n",
       "<style scoped>\n",
       "    .dataframe tbody tr th:only-of-type {\n",
       "        vertical-align: middle;\n",
       "    }\n",
       "\n",
       "    .dataframe tbody tr th {\n",
       "        vertical-align: top;\n",
       "    }\n",
       "\n",
       "    .dataframe thead th {\n",
       "        text-align: right;\n",
       "    }\n",
       "</style>\n",
       "<table border=\"1\" class=\"dataframe\">\n",
       "  <thead>\n",
       "    <tr style=\"text-align: right;\">\n",
       "      <th></th>\n",
       "      <th>Query_ID</th>\n",
       "      <th>Pre_Resolved_Query</th>\n",
       "    </tr>\n",
       "  </thead>\n",
       "  <tbody>\n",
       "    <tr>\n",
       "      <th>0</th>\n",
       "      <td>1</td>\n",
       "      <td>Unable to connect to the internet</td>\n",
       "    </tr>\n",
       "    <tr>\n",
       "      <th>1</th>\n",
       "      <td>2</td>\n",
       "      <td>Payment failed during checkout</td>\n",
       "    </tr>\n",
       "    <tr>\n",
       "      <th>2</th>\n",
       "      <td>3</td>\n",
       "      <td>App crashes when opening settings</td>\n",
       "    </tr>\n",
       "    <tr>\n",
       "      <th>3</th>\n",
       "      <td>4</td>\n",
       "      <td>Forgot password and unable to reset</td>\n",
       "    </tr>\n",
       "    <tr>\n",
       "      <th>4</th>\n",
       "      <td>5</td>\n",
       "      <td>Unable to upload files to the server</td>\n",
       "    </tr>\n",
       "  </tbody>\n",
       "</table>\n",
       "</div>"
      ],
      "text/plain": [
       "   Query_ID                    Pre_Resolved_Query\n",
       "0         1     Unable to connect to the internet\n",
       "1         2        Payment failed during checkout\n",
       "2         3     App crashes when opening settings\n",
       "3         4   Forgot password and unable to reset\n",
       "4         5  Unable to upload files to the server"
      ]
     },
     "execution_count": 3,
     "metadata": {},
     "output_type": "execute_result"
    }
   ],
   "source": [
    "\n",
    "resolved_queries_path = 'C:/Users/monis/Desktop/NMIMS - Data Science/SEM 7/NLP/resolved_queries.csv'\n",
    "new_queries_path = 'C:/Users/monis/Desktop/NMIMS - Data Science/SEM 7/NLP/new_queries.csv'\n",
    "\n",
    "resolved_queries = pd.read_csv(resolved_queries_path)\n",
    "new_queries = pd.read_csv(new_queries_path)\n",
    "\n",
    "resolved_queries.head()\n"
   ]
  },
  {
   "cell_type": "code",
   "execution_count": 4,
   "metadata": {},
   "outputs": [],
   "source": [
    "# Preprocessing function\n",
    "def preprocess_text(text):\n",
    "    text = text.lower()  \n",
    "    text = text.strip()  \n",
    "    return text"
   ]
  },
  {
   "cell_type": "code",
   "execution_count": 5,
   "metadata": {},
   "outputs": [],
   "source": [
    "resolved_queries['Pre_Resolved_Query'] = resolved_queries['Pre_Resolved_Query'].apply(preprocess_text)\n",
    "new_queries['Variation_Query'] = new_queries['Variation_Query'].apply(preprocess_text)"
   ]
  },
  {
   "cell_type": "code",
   "execution_count": 6,
   "metadata": {},
   "outputs": [],
   "source": [
    "from sklearn.feature_extraction.text import TfidfVectorizer\n",
    "from sklearn.metrics.pairwise import cosine_similarity"
   ]
  },
  {
   "cell_type": "code",
   "execution_count": 7,
   "metadata": {},
   "outputs": [],
   "source": [
    "def fuzzy_match(new_query, resolved_queries, threshold=80):\n",
    "    matches = []\n",
    "    for index, row in resolved_queries.iterrows():\n",
    "        score = fuzz.ratio(new_query, row['Pre_Resolved_Query'])\n",
    "        if score >= threshold:\n",
    "            matches.append((row['Query_ID'], score))\n",
    "    matches.sort(key=lambda x: x[1], reverse=True)\n",
    "    return matches"
   ]
  },
  {
   "cell_type": "code",
   "execution_count": 8,
   "metadata": {},
   "outputs": [],
   "source": [
    "new_queries['Fuzzy_Matches'] = new_queries['Variation_Query'].apply(lambda x: fuzzy_match(x, resolved_queries))\n"
   ]
  },
  {
   "cell_type": "code",
   "execution_count": 10,
   "metadata": {},
   "outputs": [
    {
     "data": {
      "text/html": [
       "<div>\n",
       "<style scoped>\n",
       "    .dataframe tbody tr th:only-of-type {\n",
       "        vertical-align: middle;\n",
       "    }\n",
       "\n",
       "    .dataframe tbody tr th {\n",
       "        vertical-align: top;\n",
       "    }\n",
       "\n",
       "    .dataframe thead th {\n",
       "        text-align: right;\n",
       "    }\n",
       "</style>\n",
       "<table border=\"1\" class=\"dataframe\">\n",
       "  <thead>\n",
       "    <tr style=\"text-align: right;\">\n",
       "      <th></th>\n",
       "      <th>Variation_Query</th>\n",
       "      <th>Matches_With_Query_ID</th>\n",
       "      <th>Fuzzy_Matches</th>\n",
       "    </tr>\n",
       "  </thead>\n",
       "  <tbody>\n",
       "    <tr>\n",
       "      <th>0</th>\n",
       "      <td>unabel to conect to the internet</td>\n",
       "      <td>1</td>\n",
       "      <td>[(1, 95)]</td>\n",
       "    </tr>\n",
       "    <tr>\n",
       "      <th>1</th>\n",
       "      <td>can’t connect to internet</td>\n",
       "      <td>1</td>\n",
       "      <td>[]</td>\n",
       "    </tr>\n",
       "    <tr>\n",
       "      <th>2</th>\n",
       "      <td>intenet not working</td>\n",
       "      <td>1</td>\n",
       "      <td>[]</td>\n",
       "    </tr>\n",
       "    <tr>\n",
       "      <th>3</th>\n",
       "      <td>payment failed while chekout</td>\n",
       "      <td>2</td>\n",
       "      <td>[(2, 83)]</td>\n",
       "    </tr>\n",
       "    <tr>\n",
       "      <th>4</th>\n",
       "      <td>payment did not go through during chckout</td>\n",
       "      <td>2</td>\n",
       "      <td>[]</td>\n",
       "    </tr>\n",
       "  </tbody>\n",
       "</table>\n",
       "</div>"
      ],
      "text/plain": [
       "                             Variation_Query  Matches_With_Query_ID  \\\n",
       "0           unabel to conect to the internet                      1   \n",
       "1                  can’t connect to internet                      1   \n",
       "2                        intenet not working                      1   \n",
       "3               payment failed while chekout                      2   \n",
       "4  payment did not go through during chckout                      2   \n",
       "\n",
       "  Fuzzy_Matches  \n",
       "0     [(1, 95)]  \n",
       "1            []  \n",
       "2            []  \n",
       "3     [(2, 83)]  \n",
       "4            []  "
      ]
     },
     "execution_count": 10,
     "metadata": {},
     "output_type": "execute_result"
    }
   ],
   "source": [
    "new_queries.head()"
   ]
  },
  {
   "cell_type": "code",
   "execution_count": 11,
   "metadata": {},
   "outputs": [],
   "source": [
    "# TF-IDF with Cosine Similarity\n",
    "vectorizer = TfidfVectorizer()\n",
    "tfidf_matrix_resolved = vectorizer.fit_transform(resolved_queries['Pre_Resolved_Query'])\n",
    "tfidf_matrix_new = vectorizer.transform(new_queries['Variation_Query'])"
   ]
  },
  {
   "cell_type": "code",
   "execution_count": 12,
   "metadata": {},
   "outputs": [],
   "source": [
    "cosine_similarities = cosine_similarity(tfidf_matrix_new, tfidf_matrix_resolved)\n"
   ]
  },
  {
   "cell_type": "code",
   "execution_count": 13,
   "metadata": {},
   "outputs": [],
   "source": [
    "def get_best_cosine_matches(cosine_similarities, threshold=0.5):\n",
    "    matches = []\n",
    "    for i in range(cosine_similarities.shape[0]):\n",
    "        best_match_index = cosine_similarities[i].argmax()\n",
    "        best_match_score = cosine_similarities[i][best_match_index]\n",
    "        if best_match_score >= threshold:\n",
    "            matches.append((resolved_queries.iloc[best_match_index]['Query_ID'], best_match_score))\n",
    "        else:\n",
    "            matches.append((None, best_match_score))\n",
    "    return matches"
   ]
  },
  {
   "cell_type": "code",
   "execution_count": 14,
   "metadata": {},
   "outputs": [],
   "source": [
    "new_queries['Cosine_Matches'] = get_best_cosine_matches(cosine_similarities)\n"
   ]
  },
  {
   "cell_type": "code",
   "execution_count": 15,
   "metadata": {},
   "outputs": [],
   "source": [
    "# Evaluation Metric\n",
    "def evaluate_matches(new_queries):\n",
    "    correct_matches = 0\n",
    "    total_matches = len(new_queries)\n",
    "    for index, row in new_queries.iterrows():\n",
    "        if row['Matches_With_Query_ID'] in [match[0] for match in row['Fuzzy_Matches']]:\n",
    "            correct_matches += 1\n",
    "    fuzzy_accuracy = correct_matches / total_matches\n",
    "\n",
    "    correct_matches = 0\n",
    "    for index, row in new_queries.iterrows():\n",
    "        if row['Matches_With_Query_ID'] == row['Cosine_Matches'][0]:\n",
    "            correct_matches += 1\n",
    "    cosine_accuracy = correct_matches / total_matches\n",
    "\n",
    "    return fuzzy_accuracy, cosine_accuracy"
   ]
  },
  {
   "cell_type": "code",
   "execution_count": 16,
   "metadata": {},
   "outputs": [
    {
     "name": "stdout",
     "output_type": "stream",
     "text": [
      "Fuzzy Search Accuracy: 0.4\n",
      "Cosine Similarity Accuracy: 0.9\n"
     ]
    }
   ],
   "source": [
    "fuzzy_accuracy, cosine_accuracy = evaluate_matches(new_queries)\n",
    "print(f\"Fuzzy Search Accuracy: {fuzzy_accuracy}\")\n",
    "print(f\"Cosine Similarity Accuracy: {cosine_accuracy}\")\n"
   ]
  },
  {
   "cell_type": "code",
   "execution_count": 17,
   "metadata": {},
   "outputs": [
    {
     "data": {
      "text/html": [
       "<div>\n",
       "<style scoped>\n",
       "    .dataframe tbody tr th:only-of-type {\n",
       "        vertical-align: middle;\n",
       "    }\n",
       "\n",
       "    .dataframe tbody tr th {\n",
       "        vertical-align: top;\n",
       "    }\n",
       "\n",
       "    .dataframe thead th {\n",
       "        text-align: right;\n",
       "    }\n",
       "</style>\n",
       "<table border=\"1\" class=\"dataframe\">\n",
       "  <thead>\n",
       "    <tr style=\"text-align: right;\">\n",
       "      <th></th>\n",
       "      <th>Query_ID</th>\n",
       "      <th>Pre_Resolved_Query</th>\n",
       "    </tr>\n",
       "  </thead>\n",
       "  <tbody>\n",
       "    <tr>\n",
       "      <th>0</th>\n",
       "      <td>1</td>\n",
       "      <td>unable to connect to the internet</td>\n",
       "    </tr>\n",
       "    <tr>\n",
       "      <th>1</th>\n",
       "      <td>2</td>\n",
       "      <td>payment failed during checkout</td>\n",
       "    </tr>\n",
       "    <tr>\n",
       "      <th>2</th>\n",
       "      <td>3</td>\n",
       "      <td>app crashes when opening settings</td>\n",
       "    </tr>\n",
       "    <tr>\n",
       "      <th>3</th>\n",
       "      <td>4</td>\n",
       "      <td>forgot password and unable to reset</td>\n",
       "    </tr>\n",
       "    <tr>\n",
       "      <th>4</th>\n",
       "      <td>5</td>\n",
       "      <td>unable to upload files to the server</td>\n",
       "    </tr>\n",
       "  </tbody>\n",
       "</table>\n",
       "</div>"
      ],
      "text/plain": [
       "   Query_ID                    Pre_Resolved_Query\n",
       "0         1     unable to connect to the internet\n",
       "1         2        payment failed during checkout\n",
       "2         3     app crashes when opening settings\n",
       "3         4   forgot password and unable to reset\n",
       "4         5  unable to upload files to the server"
      ]
     },
     "execution_count": 17,
     "metadata": {},
     "output_type": "execute_result"
    }
   ],
   "source": [
    "resolved_queries.head()\n"
   ]
  },
  {
   "cell_type": "code",
   "execution_count": null,
   "metadata": {},
   "outputs": [],
   "source": []
  }
 ],
 "metadata": {
  "kernelspec": {
   "display_name": "Python 3",
   "language": "python",
   "name": "python3"
  },
  "language_info": {
   "codemirror_mode": {
    "name": "ipython",
    "version": 3
   },
   "file_extension": ".py",
   "mimetype": "text/x-python",
   "name": "python",
   "nbconvert_exporter": "python",
   "pygments_lexer": "ipython3",
   "version": "3.11.9"
  }
 },
 "nbformat": 4,
 "nbformat_minor": 2
}
