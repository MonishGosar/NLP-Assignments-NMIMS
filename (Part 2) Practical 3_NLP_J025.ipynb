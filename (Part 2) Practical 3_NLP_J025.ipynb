{
 "cells": [
  {
   "cell_type": "markdown",
   "metadata": {},
   "source": [
    "\n",
    "# PART 2 - Practical 3\n",
    "\n",
    "### Build a date parser using basic text processing and rules. (No ML models)\n",
    "\n",
    "    Given a piece of text, extract the day, month and year info and present it in DD/MM/ YYYY format.\n",
    "    Example: \"l went to London on 21st June, 2024\" 21/06/2024\n",
    "\n"
   ]
  },
  {
   "cell_type": "code",
   "execution_count": 1,
   "metadata": {},
   "outputs": [],
   "source": [
    "import pandas as pd\n",
    "import re\n",
    "from datetime import datetime\n",
    "\n",
    "def parse_date(text):\n",
    "    \n",
    "    month_dict = {\n",
    "        'jan': '01', 'feb': '02', 'mar': '03', 'apr': '04', 'may': '05', 'jun': '06',\n",
    "        'jul': '07', 'aug': '08', 'sep': '09', 'oct': '10', 'nov': '11', 'dec': '12'\n",
    "    }\n",
    "\n",
    "    patterns = [\n",
    "        r'\\b(\\d{1,2})(?:st|nd|rd|th)?\\s*(?:of\\s+)?([a-zA-Z]{3,9})(?:\\s*,?\\s*|\\s+)(\\d{4}|\\d{2})\\b',\n",
    "        r'\\b([a-zA-Z]{3,9})\\s+(\\d{1,2})(?:st|nd|rd|th)?(?:\\s*,?\\s*|\\s+)(\\d{4}|\\d{2})\\b',  \n",
    "        r'\\b(\\d{4})[-./](\\d{1,2})[-./](\\d{1,2})\\b',  \n",
    "        r'\\b(\\d{1,2})[-./](\\d{1,2})[-./](\\d{4}|\\d{2})\\b', \n",
    "        r'\\b(\\d{1,2})\\.(\\d{1,2})\\.(\\d{4}|\\d{2})\\b' \n",
    "    ]\n",
    "\n",
    "    for pattern in patterns:\n",
    "        match = re.search(pattern, text)\n",
    "        if match:\n",
    "            groups = match.groups()\n",
    "            try:\n",
    "                if len(groups[0]) == 4: \n",
    "                    year, month, day = groups\n",
    "                elif groups[0].isalpha():  # Month first\n",
    "                    month, day, year = groups\n",
    "                    month = month_dict[month.lower()[:3]]\n",
    "                else:  # Day first\n",
    "                    day, month, year = groups\n",
    "                    if not month.isdigit():\n",
    "                        month = month_dict[month.lower()[:3]]\n",
    "\n",
    "                if len(year) == 2:\n",
    "                    current_year = datetime.now().year\n",
    "                    century = str(current_year)[:2]\n",
    "                    year = century + year\n",
    "\n",
    "                day = day.zfill(2)\n",
    "                month = month.zfill(2)\n",
    "\n",
    "                datetime(int(year), int(month), int(day))\n",
    "\n",
    "                return f\"{day}/{month}/{year}\"\n",
    "            except (ValueError, KeyError):\n",
    "                continue\n",
    "    return None"
   ]
  },
  {
   "cell_type": "code",
   "execution_count": 2,
   "metadata": {},
   "outputs": [
    {
     "data": {
      "text/html": [
       "<div>\n",
       "<style scoped>\n",
       "    .dataframe tbody tr th:only-of-type {\n",
       "        vertical-align: middle;\n",
       "    }\n",
       "\n",
       "    .dataframe tbody tr th {\n",
       "        vertical-align: top;\n",
       "    }\n",
       "\n",
       "    .dataframe thead th {\n",
       "        text-align: right;\n",
       "    }\n",
       "</style>\n",
       "<table border=\"1\" class=\"dataframe\">\n",
       "  <thead>\n",
       "    <tr style=\"text-align: right;\">\n",
       "      <th></th>\n",
       "      <th>Input</th>\n",
       "      <th>Expected Output</th>\n",
       "    </tr>\n",
       "  </thead>\n",
       "  <tbody>\n",
       "    <tr>\n",
       "      <th>0</th>\n",
       "      <td>The event will take place on March 5, 2023.</td>\n",
       "      <td>05/03/2023</td>\n",
       "    </tr>\n",
       "    <tr>\n",
       "      <th>1</th>\n",
       "      <td>Her birthday is on 07/08/1990.</td>\n",
       "      <td>07/08/1990</td>\n",
       "    </tr>\n",
       "    <tr>\n",
       "      <th>2</th>\n",
       "      <td>The deadline is 2022-12-31.</td>\n",
       "      <td>31/12/2022</td>\n",
       "    </tr>\n",
       "    <tr>\n",
       "      <th>3</th>\n",
       "      <td>We met on 1st of January 2000.</td>\n",
       "      <td>01/01/2000</td>\n",
       "    </tr>\n",
       "    <tr>\n",
       "      <th>4</th>\n",
       "      <td>The concert is scheduled for 15th September, 2...</td>\n",
       "      <td>15/09/2021</td>\n",
       "    </tr>\n",
       "  </tbody>\n",
       "</table>\n",
       "</div>"
      ],
      "text/plain": [
       "                                               Input Expected Output\n",
       "0        The event will take place on March 5, 2023.      05/03/2023\n",
       "1                     Her birthday is on 07/08/1990.      07/08/1990\n",
       "2                        The deadline is 2022-12-31.      31/12/2022\n",
       "3                     We met on 1st of January 2000.      01/01/2000\n",
       "4  The concert is scheduled for 15th September, 2...      15/09/2021"
      ]
     },
     "execution_count": 2,
     "metadata": {},
     "output_type": "execute_result"
    }
   ],
   "source": [
    "df = pd.read_csv('date_parser_testcases.csv')\n",
    "df.head()"
   ]
  },
  {
   "cell_type": "code",
   "execution_count": 3,
   "metadata": {},
   "outputs": [
    {
     "name": "stdout",
     "output_type": "stream",
     "text": [
      "                                                Input Expected Output  \\\n",
      "0         The event will take place on March 5, 2023.      05/03/2023   \n",
      "1                      Her birthday is on 07/08/1990.      07/08/1990   \n",
      "2                         The deadline is 2022-12-31.      31/12/2022   \n",
      "3                      We met on 1st of January 2000.      01/01/2000   \n",
      "4   The concert is scheduled for 15th September, 2...      15/09/2021   \n",
      "..                                                ...             ...   \n",
      "95  We celebrate Independence Day on 2023-07-04, a...      04/07/2023   \n",
      "96  The final date for submission is 30th November...      30/11/2022   \n",
      "97  The annual conference is on 15th October 2023,...      15/10/2023   \n",
      "98  His birthdate, noted as 1990-05-20, is in the ...      20/05/1990   \n",
      "99  The festival will be celebrated on 12th August...      12/08/2024   \n",
      "\n",
      "     My_Output  \n",
      "0   05/03/2023  \n",
      "1   07/08/1990  \n",
      "2   31/12/2022  \n",
      "3   01/01/2000  \n",
      "4   15/09/2021  \n",
      "..         ...  \n",
      "95  04/07/2023  \n",
      "96  30/11/2022  \n",
      "97  15/10/2023  \n",
      "98  20/05/1990  \n",
      "99  12/08/2024  \n",
      "\n",
      "[100 rows x 3 columns]\n"
     ]
    }
   ],
   "source": [
    "df['My_Output'] = df['Input'].apply(parse_date)\n",
    "\n",
    "print(df)"
   ]
  },
  {
   "cell_type": "code",
   "execution_count": 4,
   "metadata": {},
   "outputs": [
    {
     "data": {
      "text/plain": [
       "87.0"
      ]
     },
     "execution_count": 4,
     "metadata": {},
     "output_type": "execute_result"
    }
   ],
   "source": [
    "correct_count = (df['My_Output'] == df['Expected Output']).sum()\n",
    "total_count = len(df)\n",
    "accuracy = (correct_count / total_count) * 100\n",
    "\n",
    "accuracy"
   ]
  },
  {
   "cell_type": "code",
   "execution_count": null,
   "metadata": {},
   "outputs": [],
   "source": []
  }
 ],
 "metadata": {
  "kernelspec": {
   "display_name": "Python 3",
   "language": "python",
   "name": "python3"
  },
  "language_info": {
   "codemirror_mode": {
    "name": "ipython",
    "version": 3
   },
   "file_extension": ".py",
   "mimetype": "text/x-python",
   "name": "python",
   "nbconvert_exporter": "python",
   "pygments_lexer": "ipython3",
   "version": "3.11.9"
  }
 },
 "nbformat": 4,
 "nbformat_minor": 2
}
